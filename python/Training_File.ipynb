{
 "cells": [
  {
   "cell_type": "code",
   "execution_count": 1,
   "id": "da0ddc78-4164-45e4-b55d-c2ee59174c2f",
   "metadata": {},
   "outputs": [],
   "source": [
    "# Step 1: Import Libraries\n",
    "import pandas as pd\n",
    "import numpy as np\n",
    "from sklearn.model_selection import train_test_split\n",
    "from sklearn.preprocessing import LabelEncoder\n",
    "from sklearn.tree import DecisionTreeRegressor\n",
    "from sklearn.linear_model import LinearRegression\n",
    "from sklearn.metrics import mean_squared_error, r2_score\n",
    "import joblib"
   ]
  },
  {
   "cell_type": "code",
   "execution_count": 2,
   "id": "0467e9e7-9eb7-41c1-84e9-0f20431f3e79",
   "metadata": {},
   "outputs": [
    {
     "data": {
      "text/html": [
       "<div>\n",
       "<style scoped>\n",
       "    .dataframe tbody tr th:only-of-type {\n",
       "        vertical-align: middle;\n",
       "    }\n",
       "\n",
       "    .dataframe tbody tr th {\n",
       "        vertical-align: top;\n",
       "    }\n",
       "\n",
       "    .dataframe thead th {\n",
       "        text-align: right;\n",
       "    }\n",
       "</style>\n",
       "<table border=\"1\" class=\"dataframe\">\n",
       "  <thead>\n",
       "    <tr style=\"text-align: right;\">\n",
       "      <th></th>\n",
       "      <th>Crop</th>\n",
       "      <th>Crop_Year</th>\n",
       "      <th>Season</th>\n",
       "      <th>State</th>\n",
       "      <th>Area</th>\n",
       "      <th>Production</th>\n",
       "      <th>Annual_Rainfall</th>\n",
       "      <th>Fertilizer</th>\n",
       "      <th>Pesticide</th>\n",
       "      <th>Yield</th>\n",
       "    </tr>\n",
       "  </thead>\n",
       "  <tbody>\n",
       "    <tr>\n",
       "      <th>0</th>\n",
       "      <td>Arecanut</td>\n",
       "      <td>1997</td>\n",
       "      <td>Whole Year</td>\n",
       "      <td>Assam</td>\n",
       "      <td>73814.0</td>\n",
       "      <td>56708</td>\n",
       "      <td>2051.4</td>\n",
       "      <td>7024878.38</td>\n",
       "      <td>22882.34</td>\n",
       "      <td>0.796087</td>\n",
       "    </tr>\n",
       "    <tr>\n",
       "      <th>1</th>\n",
       "      <td>Arhar/Tur</td>\n",
       "      <td>1997</td>\n",
       "      <td>Kharif</td>\n",
       "      <td>Assam</td>\n",
       "      <td>6637.0</td>\n",
       "      <td>4685</td>\n",
       "      <td>2051.4</td>\n",
       "      <td>631643.29</td>\n",
       "      <td>2057.47</td>\n",
       "      <td>0.710435</td>\n",
       "    </tr>\n",
       "    <tr>\n",
       "      <th>2</th>\n",
       "      <td>Castor seed</td>\n",
       "      <td>1997</td>\n",
       "      <td>Kharif</td>\n",
       "      <td>Assam</td>\n",
       "      <td>796.0</td>\n",
       "      <td>22</td>\n",
       "      <td>2051.4</td>\n",
       "      <td>75755.32</td>\n",
       "      <td>246.76</td>\n",
       "      <td>0.238333</td>\n",
       "    </tr>\n",
       "    <tr>\n",
       "      <th>3</th>\n",
       "      <td>Coconut</td>\n",
       "      <td>1997</td>\n",
       "      <td>Whole Year</td>\n",
       "      <td>Assam</td>\n",
       "      <td>19656.0</td>\n",
       "      <td>126905000</td>\n",
       "      <td>2051.4</td>\n",
       "      <td>1870661.52</td>\n",
       "      <td>6093.36</td>\n",
       "      <td>5238.051739</td>\n",
       "    </tr>\n",
       "    <tr>\n",
       "      <th>4</th>\n",
       "      <td>Cotton(lint)</td>\n",
       "      <td>1997</td>\n",
       "      <td>Kharif</td>\n",
       "      <td>Assam</td>\n",
       "      <td>1739.0</td>\n",
       "      <td>794</td>\n",
       "      <td>2051.4</td>\n",
       "      <td>165500.63</td>\n",
       "      <td>539.09</td>\n",
       "      <td>0.420909</td>\n",
       "    </tr>\n",
       "  </tbody>\n",
       "</table>\n",
       "</div>"
      ],
      "text/plain": [
       "           Crop  Crop_Year       Season  State     Area  Production  \\\n",
       "0      Arecanut       1997  Whole Year   Assam  73814.0       56708   \n",
       "1     Arhar/Tur       1997  Kharif       Assam   6637.0        4685   \n",
       "2   Castor seed       1997  Kharif       Assam    796.0          22   \n",
       "3      Coconut        1997  Whole Year   Assam  19656.0   126905000   \n",
       "4  Cotton(lint)       1997  Kharif       Assam   1739.0         794   \n",
       "\n",
       "   Annual_Rainfall  Fertilizer  Pesticide        Yield  \n",
       "0           2051.4  7024878.38   22882.34     0.796087  \n",
       "1           2051.4   631643.29    2057.47     0.710435  \n",
       "2           2051.4    75755.32     246.76     0.238333  \n",
       "3           2051.4  1870661.52    6093.36  5238.051739  \n",
       "4           2051.4   165500.63     539.09     0.420909  "
      ]
     },
     "execution_count": 2,
     "metadata": {},
     "output_type": "execute_result"
    }
   ],
   "source": [
    "df = pd.read_csv(\"crop_yield.csv\")\n",
    "\n",
    "df.head()"
   ]
  },
  {
   "cell_type": "code",
   "execution_count": 11,
   "id": "ce6146ee-ba15-43c8-9a69-6330b98ed4cc",
   "metadata": {},
   "outputs": [
    {
     "data": {
      "text/plain": [
       "array(['Arecanut', 'Arhar/Tur', 'Castor seed', 'Coconut', 'Cotton(lint)',\n",
       "       'Dry chillies', 'Gram', 'Jute', 'Linseed', 'Maize', 'Mesta',\n",
       "       'Niger seed', 'Onion', 'Other  Rabi pulses', 'Potato',\n",
       "       'Rapeseed &Mustard', 'Rice', 'Sesamum', 'Small millets',\n",
       "       'Sugarcane', 'Sweet potato', 'Tapioca', 'Tobacco', 'Turmeric',\n",
       "       'Wheat', 'Bajra', 'Black pepper', 'Cardamom', 'Coriander',\n",
       "       'Garlic', 'Ginger', 'Groundnut', 'Horse-gram', 'Jowar', 'Ragi',\n",
       "       'Cashewnut', 'Banana', 'Soyabean', 'Barley', 'Khesari', 'Masoor',\n",
       "       'Moong(Green Gram)', 'Other Kharif pulses', 'Safflower',\n",
       "       'Sannhamp', 'Sunflower', 'Urad', 'Peas & beans (Pulses)',\n",
       "       'other oilseeds', 'Other Cereals', 'Cowpea(Lobia)',\n",
       "       'Oilseeds total', 'Guar seed', 'Other Summer Pulses', 'Moth'],\n",
       "      dtype=object)"
      ]
     },
     "execution_count": 11,
     "metadata": {},
     "output_type": "execute_result"
    }
   ],
   "source": [
    "df['Crop'] = df['Crop'].str.strip()\n",
    "df['Season'] = df['Season'].str.strip()\n",
    "df['State'] = df['State'].str.strip()\n",
    "\n",
    "crop_categories = df['Crop'].unique()  # Get unique crops\n",
    "season_categories = df['Season'].unique()  # Get unique seasons\n",
    "state_categories = df['State'].unique() \n",
    "\n",
    "crop_categories"
   ]
  },
  {
   "cell_type": "code",
   "execution_count": 12,
   "id": "2bb15f4e-4e5f-4481-b382-460b51c6b2d8",
   "metadata": {},
   "outputs": [
    {
     "data": {
      "text/plain": [
       "array(['Whole Year', 'Kharif', 'Rabi', 'Autumn', 'Summer', 'Winter'],\n",
       "      dtype=object)"
      ]
     },
     "execution_count": 12,
     "metadata": {},
     "output_type": "execute_result"
    }
   ],
   "source": [
    "season_categories"
   ]
  },
  {
   "cell_type": "code",
   "execution_count": 13,
   "id": "5372ff10-90b7-496c-8372-e1502ee20b1b",
   "metadata": {},
   "outputs": [],
   "source": [
    "crop_enc = LabelEncoder()\n",
    "season_enc = LabelEncoder()\n",
    "state_enc = LabelEncoder()"
   ]
  },
  {
   "cell_type": "code",
   "execution_count": 14,
   "id": "addb9f7f-fec8-45c2-b4b1-4814c9144080",
   "metadata": {},
   "outputs": [
    {
     "data": {
      "text/plain": [
       "['State_encoder.pkl']"
      ]
     },
     "execution_count": 14,
     "metadata": {},
     "output_type": "execute_result"
    }
   ],
   "source": [
    "crop_enc.fit(crop_categories)\n",
    "season_enc.fit(season_categories)\n",
    "state_enc.fit(state_categories)\n",
    "\n",
    "# Step 3: Save these encoders for future use\n",
    "joblib.dump(crop_enc, \"Crop_encoder.pkl\")\n",
    "joblib.dump(season_enc, \"Season_encoder.pkl\")\n",
    "joblib.dump(state_enc, \"State_encoder.pkl\")"
   ]
  },
  {
   "cell_type": "code",
   "execution_count": 6,
   "id": "857eba37-2dc0-4539-b790-7edd1d02f900",
   "metadata": {},
   "outputs": [
    {
     "data": {
      "text/html": [
       "<div>\n",
       "<style scoped>\n",
       "    .dataframe tbody tr th:only-of-type {\n",
       "        vertical-align: middle;\n",
       "    }\n",
       "\n",
       "    .dataframe tbody tr th {\n",
       "        vertical-align: top;\n",
       "    }\n",
       "\n",
       "    .dataframe thead th {\n",
       "        text-align: right;\n",
       "    }\n",
       "</style>\n",
       "<table border=\"1\" class=\"dataframe\">\n",
       "  <thead>\n",
       "    <tr style=\"text-align: right;\">\n",
       "      <th></th>\n",
       "      <th>Crop</th>\n",
       "      <th>Crop_Year</th>\n",
       "      <th>Season</th>\n",
       "      <th>State</th>\n",
       "      <th>Area</th>\n",
       "      <th>Production</th>\n",
       "      <th>Annual_Rainfall</th>\n",
       "      <th>Fertilizer</th>\n",
       "      <th>Pesticide</th>\n",
       "      <th>Yield</th>\n",
       "    </tr>\n",
       "  </thead>\n",
       "  <tbody>\n",
       "    <tr>\n",
       "      <th>0</th>\n",
       "      <td>Arecanut</td>\n",
       "      <td>1997</td>\n",
       "      <td>Whole Year</td>\n",
       "      <td>Assam</td>\n",
       "      <td>73814.0</td>\n",
       "      <td>56708</td>\n",
       "      <td>2051.4</td>\n",
       "      <td>7024878.38</td>\n",
       "      <td>22882.34</td>\n",
       "      <td>0.796087</td>\n",
       "    </tr>\n",
       "    <tr>\n",
       "      <th>1</th>\n",
       "      <td>Arhar/Tur</td>\n",
       "      <td>1997</td>\n",
       "      <td>Kharif</td>\n",
       "      <td>Assam</td>\n",
       "      <td>6637.0</td>\n",
       "      <td>4685</td>\n",
       "      <td>2051.4</td>\n",
       "      <td>631643.29</td>\n",
       "      <td>2057.47</td>\n",
       "      <td>0.710435</td>\n",
       "    </tr>\n",
       "    <tr>\n",
       "      <th>2</th>\n",
       "      <td>Castor seed</td>\n",
       "      <td>1997</td>\n",
       "      <td>Kharif</td>\n",
       "      <td>Assam</td>\n",
       "      <td>796.0</td>\n",
       "      <td>22</td>\n",
       "      <td>2051.4</td>\n",
       "      <td>75755.32</td>\n",
       "      <td>246.76</td>\n",
       "      <td>0.238333</td>\n",
       "    </tr>\n",
       "    <tr>\n",
       "      <th>3</th>\n",
       "      <td>Coconut</td>\n",
       "      <td>1997</td>\n",
       "      <td>Whole Year</td>\n",
       "      <td>Assam</td>\n",
       "      <td>19656.0</td>\n",
       "      <td>126905000</td>\n",
       "      <td>2051.4</td>\n",
       "      <td>1870661.52</td>\n",
       "      <td>6093.36</td>\n",
       "      <td>5238.051739</td>\n",
       "    </tr>\n",
       "    <tr>\n",
       "      <th>4</th>\n",
       "      <td>Cotton(lint)</td>\n",
       "      <td>1997</td>\n",
       "      <td>Kharif</td>\n",
       "      <td>Assam</td>\n",
       "      <td>1739.0</td>\n",
       "      <td>794</td>\n",
       "      <td>2051.4</td>\n",
       "      <td>165500.63</td>\n",
       "      <td>539.09</td>\n",
       "      <td>0.420909</td>\n",
       "    </tr>\n",
       "  </tbody>\n",
       "</table>\n",
       "</div>"
      ],
      "text/plain": [
       "           Crop  Crop_Year       Season  State     Area  Production  \\\n",
       "0      Arecanut       1997  Whole Year   Assam  73814.0       56708   \n",
       "1     Arhar/Tur       1997  Kharif       Assam   6637.0        4685   \n",
       "2   Castor seed       1997  Kharif       Assam    796.0          22   \n",
       "3      Coconut        1997  Whole Year   Assam  19656.0   126905000   \n",
       "4  Cotton(lint)       1997  Kharif       Assam   1739.0         794   \n",
       "\n",
       "   Annual_Rainfall  Fertilizer  Pesticide        Yield  \n",
       "0           2051.4  7024878.38   22882.34     0.796087  \n",
       "1           2051.4   631643.29    2057.47     0.710435  \n",
       "2           2051.4    75755.32     246.76     0.238333  \n",
       "3           2051.4  1870661.52    6093.36  5238.051739  \n",
       "4           2051.4   165500.63     539.09     0.420909  "
      ]
     },
     "execution_count": 6,
     "metadata": {},
     "output_type": "execute_result"
    }
   ],
   "source": [
    "df.head()"
   ]
  },
  {
   "cell_type": "code",
   "execution_count": 7,
   "id": "48e2cf41-b5e8-4e81-ae8b-0352b9a16c8a",
   "metadata": {},
   "outputs": [],
   "source": [
    "# Step 4: Split Data for Yield Prediction\n",
    "# Features for Yield: All except Production & Yield\n",
    "X_yield = df.drop(columns=[\"Yield\", \"Production\"])\n",
    "y_yield = df[\"Yield\"]\n",
    "\n",
    "X_yield_train, X_yield_test, y_yield_train, y_yield_test = train_test_split(X_yield, y_yield, test_size=0.2, random_state=42)\n"
   ]
  },
  {
   "cell_type": "code",
   "execution_count": 8,
   "id": "8870b1fb-56be-4d02-8deb-a6d22661850d",
   "metadata": {},
   "outputs": [
    {
     "name": "stdout",
     "output_type": "stream",
     "text": [
      "Yield Model RMSE: 170.48389608579333\n",
      "Yield Model R²: 0.9637252711734178\n"
     ]
    }
   ],
   "source": [
    "# Step 5: Train DecisionTreeRegressor for Yield\n",
    "yield_model = DecisionTreeRegressor(random_state=42)\n",
    "yield_model.fit(X_yield_train, y_yield_train)\n",
    "\n",
    "# Evaluate Yield Model\n",
    "yield_preds = yield_model.predict(X_yield_test)\n",
    "print(\"Yield Model RMSE:\", np.sqrt(mean_squared_error(y_yield_test, yield_preds)))\n",
    "print(\"Yield Model R²:\", r2_score(y_yield_test, yield_preds))"
   ]
  },
  {
   "cell_type": "code",
   "execution_count": 9,
   "id": "037583cd-a992-402d-8c52-e42b39a389ba",
   "metadata": {},
   "outputs": [],
   "source": [
    "# Step 6: Add predicted Yield to original data (for training Production model)\n",
    "df[\"Predicted_Yield\"] = yield_model.predict(X_yield)"
   ]
  },
  {
   "cell_type": "code",
   "execution_count": 10,
   "id": "557e9160-1b9b-43a1-ab08-68f6427703f0",
   "metadata": {},
   "outputs": [],
   "source": [
    "# Step 7: Prepare Data for Production Prediction\n",
    "# Features: everything except actual Production\n",
    "X_prod = df.drop(columns=[\"Production\", \"Yield\"])\n",
    "y_prod = df[\"Production\"]\n",
    "\n",
    "X_prod_train, X_prod_test, y_prod_train, y_prod_test = train_test_split(X_prod, y_prod, test_size=0.2, random_state=42)"
   ]
  },
  {
   "cell_type": "code",
   "execution_count": 11,
   "id": "dada04cd-3e0e-4067-883f-5131f036b55e",
   "metadata": {},
   "outputs": [
    {
     "name": "stdout",
     "output_type": "stream",
     "text": [
      "Production Model RMSE: 223636541.3179426\n",
      "Production Model R²: 0.3421407981415997\n"
     ]
    }
   ],
   "source": [
    "# Step 8: Train LinearRegression for Production\n",
    "prod_model = LinearRegression()\n",
    "prod_model.fit(X_prod_train, y_prod_train)\n",
    "\n",
    "# Evaluate Production Model\n",
    "prod_preds = prod_model.predict(X_prod_test)\n",
    "print(\"Production Model RMSE:\", np.sqrt(mean_squared_error(y_prod_test, prod_preds)))\n",
    "print(\"Production Model R²:\", r2_score(y_prod_test, prod_preds))"
   ]
  },
  {
   "cell_type": "code",
   "execution_count": 12,
   "id": "399025e8-0c10-42e6-88a6-4530a83f63f5",
   "metadata": {},
   "outputs": [],
   "source": [
    "# Step 9: Save Models and Encoders\n",
    "# Save models\n",
    "joblib.dump(yield_model, \"yield_model.pkl\")\n",
    "joblib.dump(prod_model, \"production_model.pkl\")\n",
    "\n",
    "# Save encoders\n",
    "for col, enc in encoders.items():\n",
    "    joblib.dump(enc, f\"{col}_encoder.pkl\")"
   ]
  },
  {
   "cell_type": "code",
   "execution_count": 30,
   "id": "a502f4bd-58c2-4db7-bd1d-3a57300bf2a6",
   "metadata": {},
   "outputs": [],
   "source": [
    "def safe_label_encode(encoder, value, label_name):\n",
    "    value_clean = value\n",
    "    if value_clean not in encoder.classes_:\n",
    "        raise ValueError(f\"❌ '{value}' not found in {label_name} encoder classes: {list(encoder.classes_)}\")\n",
    "    return encoder.transform([value_clean])[0]"
   ]
  },
  {
   "cell_type": "code",
   "execution_count": 15,
   "id": "1040a6c2-1d7b-43ae-90e7-a4ffb3419b4e",
   "metadata": {
    "scrolled": true
   },
   "outputs": [
    {
     "name": "stdout",
     "output_type": "stream",
     "text": [
      "✅ Predicted Yield: 1.20\n",
      "✅ Predicted Production: -10202932.20\n"
     ]
    }
   ],
   "source": [
    "# Sample Input (Change these values for testing)\n",
    "sample_input = {\n",
    "    \"Crop\": \"Wheat\",\n",
    "    \"Crop_Year\": 2023,\n",
    "    \"Season\": \"Rabi\",\n",
    "    \"State\": \"Punjab\",\n",
    "    \"Area\": 1200.0,\n",
    "    \"Annual_Rainfall\": 850.0,\n",
    "    \"Fertilizer\": 300.0,\n",
    "    \"Pesticide\": 10.0\n",
    "}\n",
    "# Load models & encoders\n",
    "yield_model = joblib.load(\"yield_model.pkl\")\n",
    "production_model = joblib.load(\"production_model.pkl\")\n",
    "crop_enc = joblib.load(\"Crop_encoder.pkl\")\n",
    "state_enc = joblib.load(\"State_encoder.pkl\")\n",
    "season_enc = joblib.load(\"Season_encoder.pkl\")\n",
    "# Encode categorical features\n",
    "encoded_input = {\n",
    "    \"Crop\": crop_enc.transform([sample_input[\"Crop\"].strip()])[0],\n",
    "    \"Crop_Year\": sample_input[\"Crop_Year\"],\n",
    "    \"Season\": season_enc.transform([sample_input[\"Season\"].strip()])[0],\n",
    "    \"State\": state_enc.transform([sample_input[\"State\"].strip()])[0],\n",
    "    \"Area\": sample_input[\"Area\"],\n",
    "    \"Annual_Rainfall\": sample_input[\"Annual_Rainfall\"],\n",
    "    \"Fertilizer\": sample_input[\"Fertilizer\"],\n",
    "    \"Pesticide\": sample_input[\"Pesticide\"]\n",
    "}\n",
    "# Convert to DataFrame for model input\n",
    "X_yield_sample = pd.DataFrame([encoded_input])\n",
    "\n",
    "# Predict Yield\n",
    "predicted_yield = yield_model.predict(X_yield_sample)[0]\n",
    "\n",
    "# Add Predicted Yield to input for production prediction\n",
    "X_production_sample = X_yield_sample.copy()\n",
    "X_production_sample[\"Predicted_Yield\"] = predicted_yield\n",
    "\n",
    "# Predict Production\n",
    "predicted_production = production_model.predict(X_production_sample)[0]\n",
    "\n",
    "print(f\"✅ Predicted Yield: {predicted_yield:.2f}\")\n",
    "print(f\"✅ Predicted Production: {predicted_production:.2f}\")\n"
   ]
  },
  {
   "cell_type": "code",
   "execution_count": 16,
   "id": "20f924bd-ac06-4d20-832e-a515cf33dad0",
   "metadata": {
    "scrolled": true
   },
   "outputs": [
    {
     "name": "stdout",
     "output_type": "stream",
     "text": [
      "Crop Encoding Mapping:\n",
      "                    Label  Encoded\n",
      "0                Arecanut        0\n",
      "1               Arhar/Tur        1\n",
      "2                   Bajra        2\n",
      "3                  Banana        3\n",
      "4                  Barley        4\n",
      "5            Black pepper        5\n",
      "6                Cardamom        6\n",
      "7               Cashewnut        7\n",
      "8             Castor seed        8\n",
      "9                 Coconut        9\n",
      "10              Coriander       10\n",
      "11           Cotton(lint)       11\n",
      "12          Cowpea(Lobia)       12\n",
      "13           Dry chillies       13\n",
      "14                 Garlic       14\n",
      "15                 Ginger       15\n",
      "16                   Gram       16\n",
      "17              Groundnut       17\n",
      "18              Guar seed       18\n",
      "19             Horse-gram       19\n",
      "20                  Jowar       20\n",
      "21                   Jute       21\n",
      "22                Khesari       22\n",
      "23                Linseed       23\n",
      "24                  Maize       24\n",
      "25                 Masoor       25\n",
      "26                  Mesta       26\n",
      "27      Moong(Green Gram)       27\n",
      "28                   Moth       28\n",
      "29             Niger seed       29\n",
      "30         Oilseeds total       30\n",
      "31                  Onion       31\n",
      "32     Other  Rabi pulses       32\n",
      "33          Other Cereals       33\n",
      "34    Other Kharif pulses       34\n",
      "35    Other Summer Pulses       35\n",
      "36  Peas & beans (Pulses)       36\n",
      "37                 Potato       37\n",
      "38                   Ragi       38\n",
      "39      Rapeseed &Mustard       39\n",
      "40                   Rice       40\n",
      "41              Safflower       41\n",
      "42               Sannhamp       42\n",
      "43                Sesamum       43\n",
      "44          Small millets       44\n",
      "45               Soyabean       45\n",
      "46              Sugarcane       46\n",
      "47              Sunflower       47\n",
      "48           Sweet potato       48\n",
      "49                Tapioca       49\n",
      "50                Tobacco       50\n",
      "51               Turmeric       51\n",
      "52                   Urad       52\n",
      "53                  Wheat       53\n",
      "54         other oilseeds       54\n"
     ]
    }
   ],
   "source": [
    "import pandas as pd\n",
    "\n",
    "# Example: Show mapping for Crop encoder\n",
    "crop_label_map = {label: idx for idx, label in enumerate(crop_enc.classes_)}\n",
    "print(\"Crop Encoding Mapping:\")\n",
    "print(pd.DataFrame(crop_label_map.items(), columns=[\"Label\", \"Encoded\"]))"
   ]
  }
 ],
 "metadata": {
  "kernelspec": {
   "display_name": "Python 3",
   "language": "python",
   "name": "python3"
  },
  "language_info": {
   "codemirror_mode": {
    "name": "ipython",
    "version": 3
   },
   "file_extension": ".py",
   "mimetype": "text/x-python",
   "name": "python",
   "nbconvert_exporter": "python",
   "pygments_lexer": "ipython3",
   "version": "3.12.7"
  }
 },
 "nbformat": 4,
 "nbformat_minor": 5
}
